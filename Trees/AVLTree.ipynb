{
 "cells": [
  {
   "cell_type": "code",
   "execution_count": null,
   "metadata": {},
   "outputs": [],
   "source": [
    "#Todo improve visualize function"
   ]
  },
  {
   "cell_type": "code",
   "execution_count": 74,
   "metadata": {},
   "outputs": [],
   "source": [
    "class Node:\n",
    "    def __init__(self,data):\n",
    "        self.data = data\n",
    "        self.left = None\n",
    "        self.right = None\n",
    "        self.parent = None\n",
    "    def addLeft(self,node):\n",
    "        self.left = node\n",
    "        if node:\n",
    "            node.parent = self\n",
    "    def addRight(self,node):\n",
    "        self.right = node\n",
    "        if node:\n",
    "            node.parent = self\n",
    "    def updateChild(self,oldNode,newNode):\n",
    "        if self.left == oldNode:\n",
    "            self.left = newNode\n",
    "        elif self.right == oldNode:\n",
    "            self.right = newNode\n",
    "    def compare(self, node) -> int:\n",
    "        if node == None:\n",
    "            return 1\n",
    "        if self.data == node.data:\n",
    "            return 0\n",
    "        return 1 if self.data > node.data else -1"
   ]
  },
  {
   "cell_type": "code",
   "execution_count": 75,
   "metadata": {},
   "outputs": [
    {
     "name": "stdout",
     "output_type": "stream",
     "text": [
      "1>2? -1\n",
      "2>1? 1\n"
     ]
    }
   ],
   "source": [
    "node1 = Node(1)\n",
    "node2 = Node(2)\n",
    "print(\"1>2?\",node1.compare(node2))\n",
    "print(\"2>1?\", node2.compare(node1))"
   ]
  },
  {
   "cell_type": "code",
   "execution_count": 155,
   "metadata": {},
   "outputs": [],
   "source": [
    "class BinaryTree:\n",
    "    def __init__(self,root = None):\n",
    "        self.root = root\n",
    "    \n",
    "    def leftRotate(self,node):\n",
    "        print(\"called leftRotate\",node.data)\n",
    "        tmp = node.right\n",
    "        if tmp == None:\n",
    "            return\n",
    "        node.addRight(tmp.left)\n",
    "        nodeParent = node.parent\n",
    "        tmp.addLeft(node)\n",
    "        tmp.parent = nodeParent\n",
    "        return tmp\n",
    "    \n",
    "    def rightRotate(self,node):\n",
    "        print(\"called rightRotate\",node.data)\n",
    "        tmp = node.left\n",
    "        if tmp == None:\n",
    "            return\n",
    "        node.addLeft(tmp.right)\n",
    "        nodeParent = node.parent\n",
    "        tmp.addRight(node)\n",
    "        tmp.parent = nodeParent\n",
    "        return tmp\n",
    "    \n",
    "    def leftRightRotate(self,node):\n",
    "        print(\"called leftRightRotate\",node.data)\n",
    "        if node == None or node.left == None:\n",
    "            return\n",
    "        node.left = self.leftRotate(node.left) \n",
    "        return self.rightRotate(node)\n",
    "    \n",
    "    def rightLeftRotate(self,node):\n",
    "        print(\"called rightLeftRotate\",node.data)\n",
    "        if node == None or node.right == None:\n",
    "            return\n",
    "        node.right = self.rightRotate(node.right)\n",
    "        return self.leftRotate(node)\n",
    "    \n",
    "    def getHeight(self,node):\n",
    "        if node == None:\n",
    "            return -1\n",
    "        leftHeight = self.getHeight(node.left)\n",
    "        rightHeight = self.getHeight(node.right)\n",
    "        return 1+ max(leftHeight,rightHeight)"
   ]
  },
  {
   "cell_type": "code",
   "execution_count": 156,
   "metadata": {},
   "outputs": [],
   "source": [
    "from queue import Queue\n",
    "def visualize(avlTree):\n",
    "    if avlTree == None or avlTree.root == None:\n",
    "        print(\"Empty tree\")\n",
    "        return\n",
    "    #use bfs strategy\n",
    "    currentQueue = Queue()\n",
    "    currentQueue.put(avlTree.root)\n",
    "    nextQueue = Queue()\n",
    "    maxTab = 8\n",
    "    print(\"\\t\"*maxTab,end=\"\")\n",
    "    while not currentQueue.empty():\n",
    "        node = currentQueue.get()\n",
    "        #print(node)\n",
    "        parentData = node.parent.data if node.parent else None\n",
    "        print(f'{node.data}({parentData})', \"\\t\\t\",end=\"\")\n",
    "        if node.left:\n",
    "            nextQueue.put(node.left)\n",
    "        if node.right:\n",
    "            nextQueue.put(node.right)\n",
    "        if currentQueue.empty():\n",
    "            currentQueue = nextQueue\n",
    "            nextQueue = Queue()\n",
    "            maxTab -=1\n",
    "            print(\"\\n\",\"\\t\"*maxTab,end=\"\")\n",
    "        "
   ]
  },
  {
   "cell_type": "code",
   "execution_count": 157,
   "metadata": {},
   "outputs": [],
   "source": [
    "class AVLTree(BinaryTree):\n",
    "    def __init__(self, root=None):\n",
    "        self.root = root\n",
    "    def add(self, node):\n",
    "        if self.root is None:\n",
    "            self.root = node\n",
    "        else:\n",
    "            self.add2(self.root, node)\n",
    "            self.checkBalance(node)\n",
    "    def add2(self,parent,node):\n",
    "        diff = parent.compare(node)\n",
    "        if diff == -1: #parent < node \n",
    "            if parent.right == None:\n",
    "                parent.right = node\n",
    "                node.parent = parent\n",
    "            else:\n",
    "                self.add2(parent.right, node)\n",
    "        else:\n",
    "            if parent.left == None:\n",
    "                parent.left = node\n",
    "                node.parent = parent\n",
    "            else:\n",
    "                self.add2(parent.left,node)\n",
    "    def checkBalance(self,node):\n",
    "        if node == None:\n",
    "            return\n",
    "        diff = self.getHeight(node.  left) - self.getHeight(node.right)\n",
    "        oldNode = node\n",
    "        if diff > 1: #imbalance on the left side\n",
    "            if node.left is None:\n",
    "                print(\"Error in checkBalance. Left Node should not be None if causing imbalance\",node)\n",
    "                return\n",
    "            diffChild = self.getHeight(node.left.left) - self.getHeight(node.left.right)\n",
    "            if diffChild >= 1:\n",
    "                node = self.rightRotate(node)\n",
    "            else:\n",
    "                node = self.leftRightRotate(node)\n",
    "            #don't have to check if node.left is None, since it can't cause imbalance if it is none\n",
    "        elif diff < -1: #imbalance on the right side\n",
    "            if node.right is None:\n",
    "                print(\"Error in checkBalance. Right Node should not be None if causing imbalance\",node)\n",
    "                return\n",
    "            diffChild = self.getHeight(node.right.right) - self.getHeight(node.right.left)\n",
    "            if diffChild >= 1:\n",
    "                node = self.leftRotate(node)\n",
    "            else:\n",
    "                node = self.rightLeftRotate(node)\n",
    "        if node.parent == None:\n",
    "            self.root = node\n",
    "            \n",
    "            return\n",
    "        node.parent.updateChild(oldNode,node)\n",
    "        self.checkBalance(node.parent)"
   ]
  },
  {
   "cell_type": "code",
   "execution_count": 158,
   "metadata": {},
   "outputs": [
    {
     "name": "stdout",
     "output_type": "stream",
     "text": [
      "2\n",
      "1\n",
      "0\n"
     ]
    }
   ],
   "source": [
    "#Test getHeight function\n",
    "node1 = Node(1)\n",
    "node2 = Node(2)\n",
    "node1.left = node2\n",
    "node1.right = Node(3)\n",
    "node1.left.left = Node(-1)\n",
    "bTree = BinaryTree()\n",
    "print(bTree.getHeight(node1))\n",
    "print(bTree.getHeight(node1.left))\n",
    "print(bTree.getHeight(node1.right))"
   ]
  },
  {
   "cell_type": "code",
   "execution_count": 159,
   "metadata": {},
   "outputs": [
    {
     "name": "stdout",
     "output_type": "stream",
     "text": [
      "called leftRotate 1\n",
      "called leftRotate 3\n",
      "called leftRotate 2\n",
      "called leftRotate 5\n"
     ]
    }
   ],
   "source": [
    "#Test imbalance on right side\n",
    "avlTree = AVLTree()\n",
    "#Create test node\n",
    "data = [1,2,3,4,5,6,7,8]\n",
    "for num in data:\n",
    "    avlTree.add(Node(num))"
   ]
  },
  {
   "cell_type": "code",
   "execution_count": null,
   "metadata": {
    "scrolled": true
   },
   "outputs": [],
   "source": []
  },
  {
   "cell_type": "code",
   "execution_count": 160,
   "metadata": {},
   "outputs": [
    {
     "name": "stdout",
     "output_type": "stream",
     "text": [
      "called rightRotate 8\n",
      "called rightRotate 6\n",
      "called rightRotate 7\n",
      "called rightRotate 4\n",
      "\t\t\t\t\t\t\t\t5(None) \t\t\n",
      " \t\t\t\t\t\t\t3(5) \t\t7(5) \t\t\n",
      " \t\t\t\t\t\t2(3) \t\t4(3) \t\t6(7) \t\t8(7) \t\t\n",
      " \t\t\t\t\t1(2) \t\t\n",
      " \t\t\t\t"
     ]
    }
   ],
   "source": [
    "#Test imbalance on left side\n",
    "avlTree = AVLTree()\n",
    "#Create test node\n",
    "data = [8,7,6,5,4,3,2,1]\n",
    "for num in data:\n",
    "    avlTree.add(Node(num))\n",
    "visualize(avlTree)"
   ]
  },
  {
   "cell_type": "code",
   "execution_count": 161,
   "metadata": {},
   "outputs": [
    {
     "name": "stdout",
     "output_type": "stream",
     "text": [
      "called leftRightRotate 5\n",
      "called leftRotate 3\n",
      "called rightRotate 5\n",
      "called rightRotate 5\n",
      "called leftRotate 5\n",
      "\t\t\t\t\t\t\t\t4(None) \t\t\n",
      " \t\t\t\t\t\t\t3(4) \t\t5(4) \t\t\n",
      " \t\t\t\t\t\t4(3) \t\t5(5) \t\t6(5) \t\t\n",
      " \t\t\t\t\t5(6) \t\t7(6) \t\t\n",
      " \t\t\t\t"
     ]
    }
   ],
   "source": [
    "#Test imbalance with leftRight rotation\n",
    "avlTree = AVLTree()\n",
    "#Create test node\n",
    "data = [5,3,4,4,5,5,6,7]\n",
    "for num in data:\n",
    "    avlTree.add(Node(num))\n",
    "visualize(avlTree)"
   ]
  },
  {
   "cell_type": "code",
   "execution_count": 162,
   "metadata": {},
   "outputs": [
    {
     "name": "stdout",
     "output_type": "stream",
     "text": [
      "called rightLeftRotate 5\n",
      "called rightRotate 7\n",
      "called leftRotate 5\n",
      "called leftRightRotate 5\n",
      "called leftRotate 4\n",
      "called rightRotate 5\n",
      "called rightRotate 6\n",
      "\t\t\t\t\t\t\t\t5(None) \t\t\n",
      " \t\t\t\t\t\t\t4(5) \t\t6(5) \t\t\n",
      " \t\t\t\t\t\t5(4) \t\t5(6) \t\t7(6) \t\t\n",
      " \t\t\t\t\t6(5) \t\t7(7) \t\t\n",
      " \t\t\t\t"
     ]
    }
   ],
   "source": [
    "#Test imbalance with rightLeft rotation\n",
    "avlTree = AVLTree()\n",
    "#Create test node\n",
    "data = [5,7,6,4,5,5,6,7]\n",
    "for num in data:\n",
    "    avlTree.add(Node(num))\n",
    "visualize(avlTree)"
   ]
  }
 ],
 "metadata": {
  "kernelspec": {
   "display_name": "Python 3",
   "language": "python",
   "name": "python3"
  },
  "language_info": {
   "codemirror_mode": {
    "name": "ipython",
    "version": 3
   },
   "file_extension": ".py",
   "mimetype": "text/x-python",
   "name": "python",
   "nbconvert_exporter": "python",
   "pygments_lexer": "ipython3",
   "version": "3.9.0"
  }
 },
 "nbformat": 4,
 "nbformat_minor": 4
}
